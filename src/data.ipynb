{
 "cells": [
  {
   "cell_type": "code",
   "execution_count": 25,
   "metadata": {},
   "outputs": [],
   "source": [
    "import spotipy\n",
    "import datetime\n",
    "from dotenv import load_dotenv\n",
    "import random\n",
    "import win32\n",
    "from utils import *"
   ]
  },
  {
   "cell_type": "code",
   "execution_count": 26,
   "metadata": {},
   "outputs": [],
   "source": [
    "# Setup Spotify Authorisations\n",
    "load_dotenv()\n",
    "client = spotipy.SpotifyClientCredentials()\n",
    "scope = 'user-library-read user-top-read'\n",
    "sp = spotipy.Spotify(client_credentials_manager=client, auth_manager=spotipy.SpotifyOAuth(scope=scope))\n",
    "ANALYSE_LIBRARY = False\n",
    "SEND_EMAIL = True"
   ]
  },
  {
   "cell_type": "code",
   "execution_count": 27,
   "metadata": {},
   "outputs": [],
   "source": [
    "if ANALYSE_LIBRARY:\n",
    "    # Get all user liked songs\n",
    "    user_tracks = get_user_songs(sp)\n",
    "    \n",
    "    # Process user tracks\n",
    "    songs = process_songs(sp, user_tracks)"
   ]
  },
  {
   "cell_type": "code",
   "execution_count": 28,
   "metadata": {},
   "outputs": [],
   "source": [
    "if ANALYSE_LIBRARY:\n",
    "    # Write the data \n",
    "    songs.to_csv('../data/data.csv', index=False)"
   ]
  },
  {
   "cell_type": "markdown",
   "metadata": {},
   "source": [
    "## Recent songs"
   ]
  },
  {
   "cell_type": "code",
   "execution_count": 29,
   "metadata": {},
   "outputs": [],
   "source": [
    "# Get most recent top tracks\n",
    "recent_hits = recent_top_tracks(sp)\n"
   ]
  },
  {
   "cell_type": "code",
   "execution_count": 30,
   "metadata": {},
   "outputs": [],
   "source": [
    "recent_hits.to_csv('../data/recent_hits.csv', index=False)"
   ]
  },
  {
   "cell_type": "markdown",
   "metadata": {},
   "source": [
    "## Generating Recommendations"
   ]
  },
  {
   "cell_type": "code",
   "execution_count": 31,
   "metadata": {},
   "outputs": [
    {
     "name": "stdout",
     "output_type": "stream",
     "text": [
      "Recommendations Generated\n"
     ]
    }
   ],
   "source": [
    "seed_tracks = recent_hits['track_id'].to_list()\n",
    "seed_tracks = random.sample(seed_tracks, k=5)\n",
    "recommendations = sp.recommendations(seed_tracks=seed_tracks)\n",
    "recommendationsDf = get_songs_from_recommendations(sp, recommendations)\n",
    "print(\"Recommendations Generated\")"
   ]
  }
 ],
 "metadata": {
  "kernelspec": {
   "display_name": "Python 3.10.5 64-bit",
   "language": "python",
   "name": "python3"
  },
  "language_info": {
   "codemirror_mode": {
    "name": "ipython",
    "version": 3
   },
   "file_extension": ".py",
   "mimetype": "text/x-python",
   "name": "python",
   "nbconvert_exporter": "python",
   "pygments_lexer": "ipython3",
   "version": "3.10.5"
  },
  "orig_nbformat": 4,
  "vscode": {
   "interpreter": {
    "hash": "29209815752462a804daea8c7f7efdf41cab400d9fe7474d4c498ba391520e6b"
   }
  }
 },
 "nbformat": 4,
 "nbformat_minor": 2
}
